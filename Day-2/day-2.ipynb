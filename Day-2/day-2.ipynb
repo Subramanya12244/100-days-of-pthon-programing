{
 "cells": [
  {
   "cell_type": "markdown",
   "metadata": {},
   "source": [
    "# Python Data Types\n"
   ]
  },
  {
   "cell_type": "markdown",
   "metadata": {},
   "source": [
    "# Built-in Data Types\n",
    "Variables can store data of different types, and different types can do different things.\n",
    "\n",
    "Python has the following data types built-in by default,\n",
    "in these categories:\n",
    "\n",
    "1.Text Type:\tstr\n",
    "\n",
    "2.Numeric Types:\tint, float, complex\n",
    "\n",
    "3.Sequence Types:\tlist, tuple, range\n",
    "\n",
    "4.Mapping Type:\tdict\n",
    "\n",
    "5.Set Types:\tset, frozenset\n",
    "\n",
    "6.Boolean Type:\tbool\n",
    "\n",
    "7.None Type:\tNoneType"
   ]
  },
  {
   "cell_type": "markdown",
   "metadata": {},
   "source": [
    "# 1. Text Type: Strings\n",
    "Strings in python are surrounded by either single quotation marks, or double quotation marks."
   ]
  },
  {
   "cell_type": "code",
   "execution_count": 1,
   "metadata": {},
   "outputs": [
    {
     "name": "stdout",
     "output_type": "stream",
     "text": [
      "Hello, Alice\n"
     ]
    }
   ],
   "source": [
    "name = \"Alice\"\n",
    "greeting = 'Hello, ' + name\n",
    "print(greeting)  # Output: Hello, Alice\n"
   ]
  },
  {
   "cell_type": "markdown",
   "metadata": {},
   "source": [
    "# String Methods\n",
    "Python has a set of built-in methods that you can use on strings.\n",
    "\n",
    "# 1.len()\n",
    "Returns the number of characters in a string (length of the string)."
   ]
  },
  {
   "cell_type": "code",
   "execution_count": null,
   "metadata": {},
   "outputs": [
    {
     "name": "stdout",
     "output_type": "stream",
     "text": [
      "6\n"
     ]
    }
   ],
   "source": [
    "text = \"Python\"\n",
    "print(len(text))\n"
   ]
  },
  {
   "cell_type": "markdown",
   "metadata": {},
   "source": [
    "# 2. .lower()\n",
    "Converts all characters in the string to lowercase."
   ]
  },
  {
   "cell_type": "code",
   "execution_count": 3,
   "metadata": {},
   "outputs": [
    {
     "name": "stdout",
     "output_type": "stream",
     "text": [
      "hello, world!\n"
     ]
    }
   ],
   "source": [
    "text = \"Hello, World!\"\n",
    "print(text.lower()) \n"
   ]
  },
  {
   "cell_type": "markdown",
   "metadata": {},
   "source": [
    "# 3. .upper()\n",
    "Converts all characters in the string to uppercase."
   ]
  },
  {
   "cell_type": "code",
   "execution_count": null,
   "metadata": {},
   "outputs": [],
   "source": [
    "text = \"Python is Fun\"\n",
    "print(text.upper())  # Output: PYTHON IS FUN\n"
   ]
  },
  {
   "cell_type": "markdown",
   "metadata": {},
   "source": [
    "# 4. .strip()\n",
    "Removes any leading and trailing spaces (or specified characters)."
   ]
  },
  {
   "cell_type": "code",
   "execution_count": null,
   "metadata": {},
   "outputs": [],
   "source": [
    "text = \"   Hello, World!   \"\n",
    "print(text.strip())  \n"
   ]
  },
  {
   "cell_type": "markdown",
   "metadata": {},
   "source": [
    "# 5. .replace(old, new)\n",
    "Replaces occurrences of a substring (old) with another substring (new)."
   ]
  },
  {
   "cell_type": "code",
   "execution_count": null,
   "metadata": {},
   "outputs": [],
   "source": [
    "text = \"I like apples\"\n",
    "print(text.replace(\"apples\", \"oranges\"))  # Output: I like oranges\n"
   ]
  },
  {
   "cell_type": "markdown",
   "metadata": {},
   "source": [
    "# 6. .split(separator)\n",
    "Splits a string into a list of substrings based on a specified separator. If no separator is given, it splits on whitespace."
   ]
  },
  {
   "cell_type": "code",
   "execution_count": null,
   "metadata": {},
   "outputs": [],
   "source": [
    "text = \"Python is fun\"\n",
    "print(text.split())  # Output: ['Python', 'is', 'fun']\n",
    "\n",
    "csv_text = \"apple,banana,cherry\"\n",
    "print(csv_text.split(\",\"))  # Output: ['apple', 'banana', 'cherry']\n"
   ]
  },
  {
   "cell_type": "markdown",
   "metadata": {},
   "source": [
    "# 7. .join(iterable)\n",
    "Joins elements of an iterable (like a list or tuple) into a string, separated by the specified string.\n",
    "\n"
   ]
  },
  {
   "cell_type": "code",
   "execution_count": null,
   "metadata": {},
   "outputs": [],
   "source": [
    "words = [\"Python\", \"is\", \"fun\"]\n",
    "print(\" \".join(words))  # Output: Python is fun\n"
   ]
  },
  {
   "cell_type": "markdown",
   "metadata": {},
   "source": [
    "# 8. .find(substring)\n",
    "Returns the index of the first occurrence of a substring. Returns -1 if the substring is not found."
   ]
  },
  {
   "cell_type": "code",
   "execution_count": null,
   "metadata": {},
   "outputs": [],
   "source": [
    "text = \"I love programming\"\n",
    "print(text.find(\"love\"))  # Output: 2\n",
    "print(text.find(\"Python\"))  # Output: -1\n"
   ]
  },
  {
   "cell_type": "markdown",
   "metadata": {},
   "source": [
    "# 9. .startswith(substring)\n",
    "Checks if a string starts with a specified substring. Returns True or False."
   ]
  },
  {
   "cell_type": "code",
   "execution_count": null,
   "metadata": {},
   "outputs": [],
   "source": [
    "text = \"Python programming\"\n",
    "print(text.startswith(\"Python\"))  # Output: True\n",
    "print(text.startswith(\"Java\"))    # Output: False\n"
   ]
  },
  {
   "cell_type": "markdown",
   "metadata": {},
   "source": [
    "# 10. .endswith(substring)\n",
    "Checks if a string ends with a specified substring. Returns True or False."
   ]
  },
  {
   "cell_type": "code",
   "execution_count": null,
   "metadata": {},
   "outputs": [],
   "source": [
    "text = \"Hello, World!\"\n",
    "print(text.endswith(\"!\"))  # Output: True\n",
    "print(text.endswith(\"World\"))  # Output: False\n"
   ]
  },
  {
   "cell_type": "markdown",
   "metadata": {},
   "source": [
    "# 11. .count(substring)\n",
    "Returns the number of occurrences of a substring in the string."
   ]
  },
  {
   "cell_type": "code",
   "execution_count": null,
   "metadata": {},
   "outputs": [],
   "source": [
    "text = \"banana\"\n",
    "print(text.count(\"a\"))  # Output: 3\n"
   ]
  },
  {
   "cell_type": "markdown",
   "metadata": {},
   "source": [
    "# 12. .capitalize()\n",
    "Converts the first character of the string to uppercase and the rest to lowercase."
   ]
  },
  {
   "cell_type": "code",
   "execution_count": 4,
   "metadata": {},
   "outputs": [
    {
     "name": "stdout",
     "output_type": "stream",
     "text": [
      "Python is fun\n"
     ]
    }
   ],
   "source": [
    "text = \"python is fun\"\n",
    "print(text.capitalize())  # Output: Python is fun\n"
   ]
  },
  {
   "cell_type": "markdown",
   "metadata": {},
   "source": [
    "# 2.Numeric Types:\tint, float, complex\n",
    "\n",
    "1.Int:\n",
    "Int, or integer, is a whole number, positive or negative, without decimals, of unlimited length."
   ]
  },
  {
   "cell_type": "code",
   "execution_count": 5,
   "metadata": {},
   "outputs": [
    {
     "name": "stdout",
     "output_type": "stream",
     "text": [
      "<class 'int'>\n",
      "<class 'int'>\n",
      "<class 'int'>\n"
     ]
    }
   ],
   "source": [
    "x = 1\n",
    "y = 35656222554887711\n",
    "z = -3255522\n",
    "\n",
    "print(type(x))\n",
    "print(type(y))\n",
    "print(type(z))"
   ]
  },
  {
   "cell_type": "markdown",
   "metadata": {},
   "source": [
    "2.Float\n",
    "Float, or \"floating point number\" is a number, positive or negative, containing one or more decimals."
   ]
  },
  {
   "cell_type": "code",
   "execution_count": null,
   "metadata": {},
   "outputs": [],
   "source": [
    "x = 1.10\n",
    "y = 1.0\n",
    "z = -35.59\n",
    "\n",
    "print(type(x))\n",
    "print(type(y))\n",
    "print(type(z))"
   ]
  },
  {
   "cell_type": "markdown",
   "metadata": {},
   "source": [
    "3.Complex\n",
    "Complex numbers are written with a \"j\" as the imaginary part:"
   ]
  },
  {
   "cell_type": "code",
   "execution_count": null,
   "metadata": {},
   "outputs": [],
   "source": [
    "x = 3+5j\n",
    "y = 5j\n",
    "z = -5j\n",
    "\n",
    "print(type(x))\n",
    "print(type(y))\n",
    "print(type(z))\n"
   ]
  },
  {
   "cell_type": "markdown",
   "metadata": {},
   "source": [
    "# Type Conversion\n",
    "\n",
    "You can convert from one type to another with the int(), float(), and complex() methods:"
   ]
  },
  {
   "cell_type": "code",
   "execution_count": null,
   "metadata": {},
   "outputs": [],
   "source": [
    "x = 1    # int\n",
    "y = 2.8  # float\n",
    "z = 1j   # complex\n",
    "\n",
    "#convert from int to float:\n",
    "a = float(x)\n",
    "\n",
    "#convert from float to int:\n",
    "b = int(y)\n",
    "\n",
    "#convert from int to complex:\n",
    "c = complex(x)\n",
    "\n",
    "print(a)\n",
    "print(b)\n",
    "print(c)\n",
    "\n",
    "print(type(a))\n",
    "print(type(b))\n",
    "print(type(c))\n"
   ]
  },
  {
   "cell_type": "markdown",
   "metadata": {},
   "source": [
    "int() - constructs an integer number from an integer literal, a float literal (by removing all decimals), or a string literal (providing the string represents a whole number)\n",
    "\n",
    "float() - constructs a float number from an integer literal, a float literal or a string literal (providing the string represents a float or an integer)\n",
    "\n",
    "str() - constructs a string from a wide variety of data types, including strings, integer literals and float literals"
   ]
  },
  {
   "cell_type": "code",
   "execution_count": 6,
   "metadata": {},
   "outputs": [],
   "source": [
    "#Integers:\n",
    "\n",
    "x = int(1)   # x will be 1\n",
    "y = int(2.8) # y will be 2\n",
    "z = int(\"3\") # z will be 3\n",
    "\n",
    "\n",
    "\n"
   ]
  },
  {
   "cell_type": "code",
   "execution_count": 7,
   "metadata": {},
   "outputs": [],
   "source": [
    "#Floats:\n",
    "\n",
    "x = float(1)     # x will be 1.0\n",
    "y = float(2.8)   # y will be 2.8\n",
    "z = float(\"3\")   # z will be 3.0\n",
    "w = float(\"4.2\") # w will be 4.2"
   ]
  },
  {
   "cell_type": "code",
   "execution_count": 8,
   "metadata": {},
   "outputs": [],
   "source": [
    "#Strings:\n",
    "\n",
    "x = str(\"s1\") # x will be 's1'\n",
    "y = str(2)    # y will be '2'\n",
    "z = str(3.0)  # z will be '3.0'"
   ]
  },
  {
   "cell_type": "markdown",
   "metadata": {},
   "source": [
    "# Input:\n",
    "# What is input()?\n",
    "\n",
    "The input() function allows a user to interact with the program by typing data into the console.\n",
    "\n",
    "The data entered by the user is always returned as a string.\n",
    "\n",
    "If you need a different data type (e.g., integer or float), you need to convert it explicitly"
   ]
  },
  {
   "cell_type": "code",
   "execution_count": 9,
   "metadata": {},
   "outputs": [
    {
     "name": "stdout",
     "output_type": "stream",
     "text": [
      "Hello, subramanya!\n"
     ]
    }
   ],
   "source": [
    "name = input(\"What is your name? \")\n",
    "print(\"Hello, \" + name + \"!\")\n"
   ]
  },
  {
   "cell_type": "markdown",
   "metadata": {},
   "source": [
    "# Input as Different Data Types\n",
    "1. Integer Input\n",
    "You can use int() to convert the string input into an integer."
   ]
  },
  {
   "cell_type": "code",
   "execution_count": 10,
   "metadata": {},
   "outputs": [
    {
     "name": "stdout",
     "output_type": "stream",
     "text": [
      "You are 25 years old.\n"
     ]
    }
   ],
   "source": [
    "age = int(input(\"Enter your age: \"))\n",
    "print(\"You are\", age, \"years old.\")\n"
   ]
  },
  {
   "cell_type": "markdown",
   "metadata": {},
   "source": [
    "2. Float Input:Use float() to convert the string input into a floating-point number."
   ]
  },
  {
   "cell_type": "code",
   "execution_count": null,
   "metadata": {},
   "outputs": [],
   "source": [
    "height = float(input(\"Enter your height in meters: \"))\n",
    "print(\"Your height is\", height, \"meters.\")\n"
   ]
  },
  {
   "cell_type": "markdown",
   "metadata": {},
   "source": [
    "# Exercises for Practice\n",
    "1.Write a program to:\n",
    "Ask the user for their full name.\n",
    "Print it in all uppercase and all lowercase.\n",
    "Count the occurrences of a specific letter in the name.\n",
    "\n",
    "2.Write a program to:\n",
    "Take a sentence as input.\n",
    "Split the sentence into words.\n",
    "Join the words back with a hyphen (-) as the separator.\n"
   ]
  },
  {
   "cell_type": "markdown",
   "metadata": {},
   "source": [
    "3.Write a program to:\n",
    "\n",
    "Ask the user for their name and age.\n",
    "Print a message: \"Hello [name], you will turn 100 years old in [100-age] years.\"\n",
    "\n",
    "4.Write a program that:\n",
    "Takes three numbers as input from the user.\n",
    "Prints the average of these numbers.\n",
    "\n",
    "\n",
    "​\n",
    " \n"
   ]
  },
  {
   "cell_type": "code",
   "execution_count": 11,
   "metadata": {},
   "outputs": [
    {
     "name": "stdout",
     "output_type": "stream",
     "text": [
      "Uppercase: SUBRAMANYA\n",
      "Lowercase: subramanya\n",
      "The letter 'a' occurs 3 times in your name.\n"
     ]
    }
   ],
   "source": [
    "# .Q1.\n",
    "# Ask the user for their full name\n",
    "full_name = input(\"Enter your full name: \")\n",
    "\n",
    "# Print the name in uppercase and lowercase\n",
    "print(\"Uppercase:\", full_name.upper())\n",
    "print(\"Lowercase:\", full_name.lower())\n",
    "\n",
    "# Count occurrences of a specific letter\n",
    "letter = input(\"Enter a letter to count in your name: \")\n",
    "count = full_name.lower().count(letter.lower())\n",
    "print(f\"The letter '{letter}' occurs {count} times in your name.\")\n"
   ]
  },
  {
   "cell_type": "code",
   "execution_count": null,
   "metadata": {},
   "outputs": [],
   "source": [
    "#Q2.\n",
    "# Take a sentence as input\n",
    "sentence = input(\"Enter a sentence: \")\n",
    "\n",
    "# Split the sentence into words\n",
    "words = sentence.split()\n",
    "print(\"Words:\", words)\n",
    "\n",
    "# Join the words back with a hyphen\n",
    "hyphenated_sentence = \"-\".join(words)\n",
    "print(\"Hyphenated Sentence:\", hyphenated_sentence)\n"
   ]
  },
  {
   "cell_type": "markdown",
   "metadata": {},
   "source": [
    "# Slicing \n",
    "Slicing is a way to extract specific portions of a sequence, such as strings, lists, or tuples, by specifying a range of indices. Python provides a powerful slicing mechanism that is easy to use and highly versatile.\n",
    "\n",
    "sequence[start:stop:step]\n",
    "\n",
    "start: The starting index (inclusive). Defaults to 0 if omitted.\n",
    "\n",
    "stop: The ending index (exclusive). The slice stops at stop - 1.\n",
    "\n",
    "step: The step size, indicating how many items to skip. Defaults to 1 if omitted."
   ]
  },
  {
   "cell_type": "code",
   "execution_count": 12,
   "metadata": {},
   "outputs": [
    {
     "name": "stdout",
     "output_type": "stream",
     "text": [
      "Python\n",
      "Programming\n",
      "PythonPro\n",
      "Programming\n",
      "Python\n",
      "PtoPormig\n",
      "PhPgmn\n",
      "gnimmargorPnohtyP\n",
      "nohtyP\n"
     ]
    }
   ],
   "source": [
    "text = \"PythonProgramming\"\n",
    "\n",
    "# Extract \"Python\"\n",
    "print(text[0:6])  # Output: Python\n",
    "\n",
    "# Extract \"Programming\"\n",
    "print(text[6:])  # Output: Programming\n",
    "\n",
    "# Extract \"PythonPro\"\n",
    "print(text[:9])  # Output: PythonPro\n",
    "\n",
    "# Extract \"Programming\" using negative indices\n",
    "print(text[-11:])  # Output: Programming\n",
    "\n",
    "# Extract \"Python\" using negative indices\n",
    "print(text[:-11])  # Output: Python\n",
    "\n",
    "\n",
    "# Extract every second character\n",
    "print(text[::2])  # Output: Pto rgamn\n",
    "\n",
    "# Extract every third character\n",
    "print(text[::3])  # Output: Phrgmg\n",
    "\n",
    "\n",
    "# Reverse the entire string\n",
    "print(text[::-1])  # Output: gnimmargorPnohtyP\n",
    "\n",
    "# Reverse a portion of the string\n",
    "print(text[5::-1])  # Output: nohtyP\n"
   ]
  }
 ],
 "metadata": {
  "kernelspec": {
   "display_name": "Python 3",
   "language": "python",
   "name": "python3"
  },
  "language_info": {
   "codemirror_mode": {
    "name": "ipython",
    "version": 3
   },
   "file_extension": ".py",
   "mimetype": "text/x-python",
   "name": "python",
   "nbconvert_exporter": "python",
   "pygments_lexer": "ipython3",
   "version": "3.11.4"
  }
 },
 "nbformat": 4,
 "nbformat_minor": 2
}
