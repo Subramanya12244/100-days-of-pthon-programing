{
 "cells": [
  {
   "cell_type": "markdown",
   "metadata": {},
   "source": [
    "# What is Data Analytics?\n",
    "Data Analytics refers to the process of examining, cleaning, transforming, and \n",
    "interpreting data to extract useful insights and support decision-making. It \n",
    "involves statistical and computational techniques to analyze raw data for \n",
    "patterns, trends, and actionable information.\n"
   ]
  },
  {
   "cell_type": "markdown",
   "metadata": {},
   "source": [
    "# Importance and Applications in Real Life\n",
    "\n",
    "# Importance:\n",
    "\n",
    "Helps organizations make data-driven decisions.\n",
    "Optimizes operations and increases efficiency.\n",
    "Identifies market trends and customer preferences.\n",
    "\n",
    "# Applications:\n",
    "\n",
    "Business: Customer behavior analysis and sales forecasting.\n",
    "\n",
    "Healthcare: Predicting patient outcomes and analyzing disease trends.\n",
    "\n",
    "Finance: Fraud detection and risk management.\n",
    "\n",
    "Sports: Performance analysis and game strategies.\n",
    "\n",
    "E-commerce: Personalized recommendations (like Amazon’s product suggestions)."
   ]
  },
  {
   "cell_type": "markdown",
   "metadata": {},
   "source": [
    "# Introduction to Python\n",
    "# What is Python?\n",
    "Python is a high-level, interpreted programming language known for its simplicity and versatility. It is widely used in data analytics due to its rich ecosystem of libraries and ease of learning."
   ]
  },
  {
   "cell_type": "markdown",
   "metadata": {},
   "source": [
    "# Why is Python Used for Data Analytics?\n",
    "\n",
    "Ease of Use: Python's syntax is simple, making it accessible for beginners.\n",
    "\n",
    "Rich Libraries: Libraries like NumPy, Pandas, and Matplotlib provide powerful tools \n",
    "for data analysis and visualization.\n",
    "\n",
    "Community Support: Python has a large community for troubleshooting and resources."
   ]
  },
  {
   "cell_type": "markdown",
   "metadata": {},
   "source": [
    "# Variables:\n",
    "Variables are containers for storing data values."
   ]
  },
  {
   "cell_type": "code",
   "execution_count": 1,
   "metadata": {},
   "outputs": [
    {
     "name": "stdout",
     "output_type": "stream",
     "text": [
      "5\n",
      "John\n"
     ]
    }
   ],
   "source": [
    "# Creating Variables:\n",
    "x = 5\n",
    "y = \"John\"\n",
    "print(x)\n",
    "print(y)"
   ]
  },
  {
   "cell_type": "markdown",
   "metadata": {},
   "source": [
    "# Note:\n",
    "Variables do not need to be declared with any particular type, and can even change type after they have been set."
   ]
  },
  {
   "cell_type": "code",
   "execution_count": 2,
   "metadata": {},
   "outputs": [
    {
     "name": "stdout",
     "output_type": "stream",
     "text": [
      "Sally\n"
     ]
    }
   ],
   "source": [
    "x = 4       # x is of type int\n",
    "x = \"Sally\" # x is now of type str\n",
    "print(x)"
   ]
  },
  {
   "cell_type": "markdown",
   "metadata": {},
   "source": [
    "# Get the type of the variable"
   ]
  },
  {
   "cell_type": "code",
   "execution_count": null,
   "metadata": {},
   "outputs": [],
   "source": [
    "x = 5\n",
    "y = \"John\"\n",
    "print(type(x))\n",
    "print(type(y))"
   ]
  },
  {
   "cell_type": "markdown",
   "metadata": {},
   "source": [
    "# Python is Case sensitive language"
   ]
  },
  {
   "cell_type": "code",
   "execution_count": 4,
   "metadata": {},
   "outputs": [
    {
     "name": "stdout",
     "output_type": "stream",
     "text": [
      "4\n",
      "Sally\n"
     ]
    }
   ],
   "source": [
    "a = 4\n",
    "A = \"Sally\"\n",
    "#A will not overwrite a\n",
    "print(a)\n",
    "print(A)"
   ]
  },
  {
   "cell_type": "markdown",
   "metadata": {},
   "source": [
    "# Rules for naming a variable:"
   ]
  },
  {
   "cell_type": "markdown",
   "metadata": {},
   "source": [
    "1.A variable name must start with a letter or the underscore character\n",
    "\n",
    "2.A variable name cannot start with a number\n",
    "\n",
    "3.A variable name can only contain alpha-numeric characters and underscores (A-z, 0-9, and _ )\n",
    "\n",
    "4.Variable names are case-sensitive (age, Age and AGE are three different variables)\n",
    "\n",
    "5.A variable name cannot be any of the Python keywords."
   ]
  },
  {
   "cell_type": "markdown",
   "metadata": {},
   "source": [
    "# some examples which would work"
   ]
  },
  {
   "cell_type": "code",
   "execution_count": 6,
   "metadata": {},
   "outputs": [],
   "source": [
    "myvar = \"John\"\n",
    "my_var = \"John\"\n",
    "_my_var = \"John\"\n",
    "myVar = \"John\"\n",
    "MYVAR = \"John\"\n",
    "myvar2 = \"John\""
   ]
  },
  {
   "cell_type": "markdown",
   "metadata": {},
   "source": [
    "# which examples would not work"
   ]
  },
  {
   "cell_type": "code",
   "execution_count": null,
   "metadata": {},
   "outputs": [],
   "source": [
    "2myvar = \"John\"\n",
    "my-var = \"John\"\n",
    "my var = \"John"
   ]
  },
  {
   "cell_type": "markdown",
   "metadata": {},
   "source": [
    "# Multi Words Variable Names"
   ]
  },
  {
   "cell_type": "markdown",
   "metadata": {},
   "source": [
    "There are several techniques you can use to make them more readable:\n",
    "# 1.Camel Case : \n",
    "Each word, except the first, starts with a capital letter\n",
    "\n",
    "myVariableName = \"John\"\n",
    "\n",
    "# 2.Pascal Case : \n",
    "Each word starts with a capital letter\n",
    "\n",
    "MyVariableName = \"John\"\n",
    "\n",
    "# 3.Snake Case : \n",
    "Each word is separated by an underscore character:\n",
    "\n",
    "my_variable_name = \"John\""
   ]
  },
  {
   "cell_type": "code",
   "execution_count": null,
   "metadata": {},
   "outputs": [],
   "source": [
    "myVariableName = \"John\"\n",
    "MyVariableName = \"John\"\n",
    "my_variable_name = \"John\""
   ]
  },
  {
   "cell_type": "markdown",
   "metadata": {},
   "source": [
    "# Excercise:\n",
    "Q1.The following variable names are incorrectly written. Rewrite them using Python's recommended snake_case convention:\n",
    "\n",
    "myVariableName = \"John\"\n",
    "\n",
    "AgeOfPerson = 25\n",
    "\n",
    "IsStudent = True"
   ]
  },
  {
   "cell_type": "markdown",
   "metadata": {},
   "source": [
    "Q2: Create Multi-Word Variables\n",
    "Create multi-word variables for the following scenarios using snake_case:,CamelCase,PascalCase\n",
    "\n",
    "Store the name of your favorite movie.\n",
    "\n",
    "Store the height of a building in meters.\n",
    "\n",
    "Store the number of students in a classroom.\n",
    "\n",
    "Store a boolean indicating whether it's raining."
   ]
  },
  {
   "cell_type": "markdown",
   "metadata": {},
   "source": [
    "Q3.Write a program to concatenate or combine two multi-word variables into a meaningful sentence.Example Task: Combine first_name and last_name into a full name and print it."
   ]
  },
  {
   "cell_type": "markdown",
   "metadata": {},
   "source": [
    "# Topic-Assign Multiple Values\n",
    "\n",
    "# 1.Many Values to Multiple Variables:  \n",
    "\n",
    "Python allows you to assign values to multiple variables in one line"
   ]
  },
  {
   "cell_type": "code",
   "execution_count": 8,
   "metadata": {},
   "outputs": [
    {
     "name": "stdout",
     "output_type": "stream",
     "text": [
      "Orange\n",
      "Banana\n",
      "Cherry\n"
     ]
    }
   ],
   "source": [
    "# x, y, z = \"Orange\", \"Banana\", \"Cherry\",\"value\"\n",
    "x, y, z = \"Orange\", \"Banana\", \"Cherry\"\n",
    "print(x)\n",
    "print(y)\n",
    "print(z)"
   ]
  },
  {
   "cell_type": "markdown",
   "metadata": {},
   "source": [
    "# One Value to Multiple Variables\n",
    "And you can assign the same value to multiple variables in one line:"
   ]
  },
  {
   "cell_type": "code",
   "execution_count": 9,
   "metadata": {},
   "outputs": [
    {
     "name": "stdout",
     "output_type": "stream",
     "text": [
      "Orange\n",
      "Orange\n",
      "Orange\n"
     ]
    }
   ],
   "source": [
    "x = y = z = \"Orange\"\n",
    "print(x)\n",
    "print(y)\n",
    "print(z)"
   ]
  },
  {
   "cell_type": "markdown",
   "metadata": {},
   "source": [
    "# Excercise\n",
    "Q1: One Value to Multiple Variables\n",
    "\n",
    "Assign the value \"Python\" to three variables: language1, language2, and language3. \n",
    "Then, print all three variables."
   ]
  },
  {
   "cell_type": "code",
   "execution_count": null,
   "metadata": {},
   "outputs": [],
   "source": [
    "\n",
    "# Example Code to Complete:\n",
    "\n",
    "# Assign \"Python\" to all three variables\n",
    "# language1 = \n",
    "# language2 = \n",
    "# language3 = \n",
    "\n",
    "# Print the variables\n",
    "# print(language1, language2, language3)\n"
   ]
  },
  {
   "cell_type": "markdown",
   "metadata": {},
   "source": [
    "Q2:Reuse One Value in Different Variables\n",
    "\n",
    "Assign the value 10 to three variables: a, b, and c. Then, calculate the sum of these variables and print the result."
   ]
  },
  {
   "cell_type": "code",
   "execution_count": null,
   "metadata": {},
   "outputs": [],
   "source": [
    "# Assign the same value to all three variables\n",
    "a = \n",
    "b = \n",
    "c = \n",
    "\n",
    "# Calculate and print the sum\n",
    "total = a + b + c\n",
    "print(\"Total:\", total)\n"
   ]
  },
  {
   "cell_type": "markdown",
   "metadata": {},
   "source": [
    "Exercise 3: Many Values to Multiple Variables\n",
    "\n",
    "Assign the values 1, 2, and 3 to three variables x, y, and z in a single line of code. Then, print their values."
   ]
  },
  {
   "cell_type": "code",
   "execution_count": null,
   "metadata": {},
   "outputs": [],
   "source": [
    "# Assign 1, 2, and 3 to x, y, and z\n",
    "x, y, z = \n",
    "\n",
    "# Print the variables\n",
    "print(\"x =\", x)\n",
    "print(\"y =\", y)\n",
    "print(\"z =\", z)\n"
   ]
  },
  {
   "cell_type": "markdown",
   "metadata": {},
   "source": [
    "Exercise 4: Swapping Values with Multiple Assignment\n",
    "\n",
    "Assign the values 5 and 10 to variables a and b. Swap their values without using a temporary variable, and print the new values of a and b."
   ]
  },
  {
   "cell_type": "code",
   "execution_count": null,
   "metadata": {},
   "outputs": [],
   "source": [
    "# Initial values\n",
    "a = 5\n",
    "b = 10\n",
    "\n",
    "# Swap values\n",
    "a, b = \n",
    "\n",
    "# Print the swapped values\n",
    "print(\"a =\", a)\n",
    "print(\"b =\", b)\n"
   ]
  },
  {
   "cell_type": "markdown",
   "metadata": {},
   "source": [
    "# Output Variables"
   ]
  },
  {
   "cell_type": "markdown",
   "metadata": {},
   "source": [
    "The Python print() function is often used to output variables."
   ]
  },
  {
   "cell_type": "code",
   "execution_count": null,
   "metadata": {},
   "outputs": [],
   "source": [
    "x = \"Python is awesome\"\n",
    "print(x)"
   ]
  },
  {
   "cell_type": "markdown",
   "metadata": {},
   "source": [
    "In the print() function, you output multiple variables, separated by a comma:\n"
   ]
  },
  {
   "cell_type": "code",
   "execution_count": 10,
   "metadata": {},
   "outputs": [
    {
     "name": "stdout",
     "output_type": "stream",
     "text": [
      "Python is awesome\n"
     ]
    }
   ],
   "source": [
    "x = \"Python\"\n",
    "y = \"is\"\n",
    "z = \"awesome\"\n",
    "print(x, y, z)"
   ]
  },
  {
   "cell_type": "markdown",
   "metadata": {},
   "source": [
    "You can also use the + operator to output multiple variables:"
   ]
  },
  {
   "cell_type": "code",
   "execution_count": null,
   "metadata": {},
   "outputs": [],
   "source": [
    "x = \"Python \"\n",
    "y = \"is \"\n",
    "z = \"awesome\"\n",
    "print(x + y + z)"
   ]
  },
  {
   "cell_type": "markdown",
   "metadata": {},
   "source": [
    "For numbers, the + character works as a mathematical operator:"
   ]
  },
  {
   "cell_type": "code",
   "execution_count": 12,
   "metadata": {},
   "outputs": [
    {
     "name": "stdout",
     "output_type": "stream",
     "text": [
      "15\n"
     ]
    }
   ],
   "source": [
    "x = 5\n",
    "y = 10\n",
    "print(x + y)"
   ]
  },
  {
   "cell_type": "markdown",
   "metadata": {},
   "source": [
    "In the print() function, when you try to combine a string and a number with the + operator, Python will give you an error:"
   ]
  },
  {
   "cell_type": "code",
   "execution_count": null,
   "metadata": {},
   "outputs": [],
   "source": [
    "x = 5\n",
    "y = \"John\"\n",
    "print(x + y)"
   ]
  },
  {
   "cell_type": "markdown",
   "metadata": {},
   "source": [
    "The best way to output multiple variables in the print() function is to separate them with commas, which even support different data types:"
   ]
  },
  {
   "cell_type": "code",
   "execution_count": 13,
   "metadata": {},
   "outputs": [
    {
     "name": "stdout",
     "output_type": "stream",
     "text": [
      "5 John\n"
     ]
    }
   ],
   "source": [
    "x = 5\n",
    "y = \"John\"\n",
    "print(x, y)"
   ]
  }
 ],
 "metadata": {
  "kernelspec": {
   "display_name": "Python 3",
   "language": "python",
   "name": "python3"
  },
  "language_info": {
   "codemirror_mode": {
    "name": "ipython",
    "version": 3
   },
   "file_extension": ".py",
   "mimetype": "text/x-python",
   "name": "python",
   "nbconvert_exporter": "python",
   "pygments_lexer": "ipython3",
   "version": "3.11.4"
  }
 },
 "nbformat": 4,
 "nbformat_minor": 2
}
